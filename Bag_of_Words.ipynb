{
  "nbformat": 4,
  "nbformat_minor": 0,
  "metadata": {
    "kernelspec": {
      "display_name": "Python 3",
      "language": "python",
      "name": "python3"
    },
    "language_info": {
      "codemirror_mode": {
        "name": "ipython",
        "version": 3
      },
      "file_extension": ".py",
      "mimetype": "text/x-python",
      "name": "python",
      "nbconvert_exporter": "python",
      "pygments_lexer": "ipython3",
      "version": "3.7.6"
    },
    "toc": {
      "base_numbering": 1,
      "nav_menu": {},
      "number_sections": true,
      "sideBar": true,
      "skip_h1_title": false,
      "title_cell": "Table of Contents",
      "title_sidebar": "Contents",
      "toc_cell": true,
      "toc_position": {},
      "toc_section_display": true,
      "toc_window_display": false
    },
    "varInspector": {
      "cols": {
        "lenName": 16,
        "lenType": 16,
        "lenVar": 40
      },
      "kernels_config": {
        "python": {
          "delete_cmd_postfix": "",
          "delete_cmd_prefix": "del ",
          "library": "var_list.py",
          "varRefreshCmd": "print(var_dic_list())"
        },
        "r": {
          "delete_cmd_postfix": ") ",
          "delete_cmd_prefix": "rm(",
          "library": "var_list.r",
          "varRefreshCmd": "cat(var_dic_list()) "
        }
      },
      "types_to_exclude": [
        "module",
        "function",
        "builtin_function_or_method",
        "instance",
        "_Feature"
      ],
      "window_display": false
    },
    "colab": {
      "name": "Bag of Words.ipynb",
      "provenance": [],
      "include_colab_link": true
    }
  },
  "cells": [
    {
      "cell_type": "markdown",
      "metadata": {
        "id": "view-in-github",
        "colab_type": "text"
      },
      "source": [
        "<a href=\"https://colab.research.google.com/github/khuloodnasher/Bag-of-wods/blob/main/Bag_of_Words.ipynb\" target=\"_parent\"><img src=\"https://colab.research.google.com/assets/colab-badge.svg\" alt=\"Open In Colab\"/></a>"
      ]
    },
    {
      "cell_type": "markdown",
      "metadata": {
        "toc": true,
        "id": "vpY-Zipd8od-"
      },
      "source": [
        "<h1>Table of Contents<span class=\"tocSkip\"></span></h1>\n",
        "<div class=\"toc\"><ul class=\"toc-item\"></ul></div>"
      ]
    },
    {
      "cell_type": "code",
      "metadata": {
        "ExecuteTime": {
          "end_time": "2020-10-18T22:59:06.590136Z",
          "start_time": "2020-10-18T22:59:04.696134Z"
        },
        "id": "r42BtwO78od_",
        "outputId": "23b7157c-dc41-4ab1-de9f-6cd55e44de07"
      },
      "source": [
        "import nltk\n",
        "nltk.download('punkt')\n",
        "nltk.download('wordnet')"
      ],
      "execution_count": null,
      "outputs": [
        {
          "output_type": "stream",
          "text": [
            "[nltk_data] Downloading package punkt to\n",
            "[nltk_data]     /Users/khuloodnasher/nltk_data...\n",
            "[nltk_data]   Package punkt is already up-to-date!\n",
            "[nltk_data] Downloading package wordnet to\n",
            "[nltk_data]     /Users/khuloodnasher/nltk_data...\n",
            "[nltk_data]   Package wordnet is already up-to-date!\n"
          ],
          "name": "stderr"
        },
        {
          "output_type": "execute_result",
          "data": {
            "text/plain": [
              "True"
            ]
          },
          "metadata": {
            "tags": []
          },
          "execution_count": 1
        }
      ]
    },
    {
      "cell_type": "code",
      "metadata": {
        "ExecuteTime": {
          "end_time": "2020-10-18T22:59:06.595988Z",
          "start_time": "2020-10-18T22:59:06.593009Z"
        },
        "id": "_Oghhy8I8oeE"
      },
      "source": [
        "quote = \"\"\" \n",
        "\n",
        "Your time is limited, so don’t waste it living someone else’s life. \n",
        "Don’t be trapped by dogma — which is living with the results of other people’s thinking. \n",
        "Don’t let the noise of others’ opinions drown out your own inner voice. \n",
        "And most important, have the courage to follow your heart and intuition.\n",
        "They somehow already know what you truly want to become. Everything else is secondary. \"\"\"\n",
        "\n",
        "\n"
      ],
      "execution_count": null,
      "outputs": []
    },
    {
      "cell_type": "code",
      "metadata": {
        "ExecuteTime": {
          "end_time": "2020-10-18T22:59:06.605796Z",
          "start_time": "2020-10-18T22:59:06.598744Z"
        },
        "id": "27ejYNyi8oeH"
      },
      "source": [
        "# Import Libraries \n",
        "\n",
        "import re\n",
        "from nltk.corpus import stopwords\n",
        "from nltk.stem.porter import PorterStemmer\n",
        "from nltk.stem import WordNetLemmatizer\n",
        "\n",
        "\n",
        "# create Stemming Object\n",
        "ps = PorterStemmer()\n",
        "\n",
        "# Create Lemmitization Object\n",
        "wordnet=WordNetLemmatizer()\n",
        "\n"
      ],
      "execution_count": null,
      "outputs": []
    },
    {
      "cell_type": "code",
      "metadata": {
        "ExecuteTime": {
          "end_time": "2020-10-18T22:59:06.650388Z",
          "start_time": "2020-10-18T22:59:06.608991Z"
        },
        "id": "tvrbIS-F8oeJ",
        "outputId": "aa9a6e1a-65fc-4f0e-dd08-105a06a4f63f"
      },
      "source": [
        "# Tokenize our texts\n",
        "sentences = nltk.sent_tokenize(quote)\n",
        "print(len(sentences ))\n",
        "sentences \n"
      ],
      "execution_count": null,
      "outputs": [
        {
          "output_type": "stream",
          "text": [
            "6\n"
          ],
          "name": "stdout"
        },
        {
          "output_type": "execute_result",
          "data": {
            "text/plain": [
              "[' \\n\\nYour time is limited, so don’t waste it living someone else’s life.',\n",
              " 'Don’t be trapped by dogma — which is living with the results of other people’s thinking.',\n",
              " 'Don’t let the noise of others’ opinions drown out your own inner voice.',\n",
              " 'And most important, have the courage to follow your heart and intuition.',\n",
              " 'They somehow already know what you truly want to become.',\n",
              " 'Everything else is secondary.']"
            ]
          },
          "metadata": {
            "tags": []
          },
          "execution_count": 4
        }
      ]
    },
    {
      "cell_type": "code",
      "metadata": {
        "ExecuteTime": {
          "end_time": "2020-10-18T22:59:06.708104Z",
          "start_time": "2020-10-18T22:59:06.675347Z"
        },
        "id": "IpDO_VXc8oeM"
      },
      "source": [
        "# cleaning with stemming\n",
        "corpus = []\n",
        "for i in range(len(sentences)):\n",
        "    review = re.sub('[^a-zA-Z]', ' ', sentences[i])\n",
        "    review = review.lower()\n",
        "    review = review.split()\n",
        "    review = [ps.stem(word) for word in review if not word in set(stopwords.words('english'))]\n",
        "    review = ' '.join(review)\n",
        "    corpus.append(review)\n",
        "    "
      ],
      "execution_count": null,
      "outputs": []
    },
    {
      "cell_type": "code",
      "metadata": {
        "ExecuteTime": {
          "end_time": "2020-10-18T22:59:06.716021Z",
          "start_time": "2020-10-18T22:59:06.710868Z"
        },
        "id": "EWra_lgb8oeO",
        "outputId": "3d0a827b-d808-4a27-e489-7890316e6a69"
      },
      "source": [
        "corpus"
      ],
      "execution_count": null,
      "outputs": [
        {
          "output_type": "execute_result",
          "data": {
            "text/plain": [
              "['time limit wast live someon els life',\n",
              " 'trap dogma live result peopl think',\n",
              " 'let nois other opinion drown inner voic',\n",
              " 'import courag follow heart intuit',\n",
              " 'somehow alreadi know truli want becom',\n",
              " 'everyth els secondari']"
            ]
          },
          "metadata": {
            "tags": []
          },
          "execution_count": 6
        }
      ]
    },
    {
      "cell_type": "code",
      "metadata": {
        "ExecuteTime": {
          "end_time": "2020-10-18T22:59:08.098348Z",
          "start_time": "2020-10-18T22:59:06.722232Z"
        },
        "id": "LPWmoXMg8oeQ"
      },
      "source": [
        "# cleaning with Lemmatization\n",
        "corpus1 = []\n",
        "for i in range(len(sentences)):\n",
        "    review = re.sub('[^a-zA-Z]', ' ', sentences[i])\n",
        "    review = review.lower()\n",
        "    review = review.split()\n",
        "    review = [wordnet.lemmatize(word) for word in review if not word in set(stopwords.words('english'))]\n",
        "    review = ' '.join(review)\n",
        "    corpus1.append(review)\n",
        "    "
      ],
      "execution_count": null,
      "outputs": []
    },
    {
      "cell_type": "code",
      "metadata": {
        "ExecuteTime": {
          "end_time": "2020-10-18T22:59:08.129251Z",
          "start_time": "2020-10-18T22:59:08.100759Z"
        },
        "id": "0EnkQx148oeT",
        "outputId": "ebc20164-50ef-4398-b663-b027c5752eb2"
      },
      "source": [
        "corpus1"
      ],
      "execution_count": null,
      "outputs": [
        {
          "output_type": "execute_result",
          "data": {
            "text/plain": [
              "['time limited waste living someone else life',\n",
              " 'trapped dogma living result people thinking',\n",
              " 'let noise others opinion drown inner voice',\n",
              " 'important courage follow heart intuition',\n",
              " 'somehow already know truly want become',\n",
              " 'everything else secondary']"
            ]
          },
          "metadata": {
            "tags": []
          },
          "execution_count": 8
        }
      ]
    },
    {
      "cell_type": "code",
      "metadata": {
        "ExecuteTime": {
          "end_time": "2020-10-18T22:59:08.137479Z",
          "start_time": "2020-10-18T22:59:08.132131Z"
        },
        "id": "iunnAeyW8oeX"
      },
      "source": [
        "# Creating the Bag of Words model\n",
        "from sklearn.feature_extraction.text import CountVectorizer\n",
        "cv = CountVectorizer()\n",
        "bagged_quote = cv.fit_transform(corpus1).toarray()\n",
        "\n",
        "\n"
      ],
      "execution_count": null,
      "outputs": []
    },
    {
      "cell_type": "code",
      "metadata": {
        "ExecuteTime": {
          "end_time": "2020-10-18T22:59:08.146776Z",
          "start_time": "2020-10-18T22:59:08.141011Z"
        },
        "id": "Cnq0XM0K8oeZ",
        "outputId": "bf91d9f2-e916-44ff-fc77-dfb4896ea846"
      },
      "source": [
        "bagged_quote\n"
      ],
      "execution_count": null,
      "outputs": [
        {
          "output_type": "execute_result",
          "data": {
            "text/plain": [
              "array([[0, 0, 0, 0, 0, 1, 0, 0, 0, 0, 0, 0, 0, 0, 1, 1, 1, 0, 0, 0, 0, 0,\n",
              "        0, 0, 1, 0, 1, 0, 0, 0, 0, 1],\n",
              "       [0, 0, 0, 1, 0, 0, 0, 0, 0, 0, 0, 0, 0, 0, 0, 0, 1, 0, 0, 0, 1, 1,\n",
              "        0, 0, 0, 1, 0, 1, 0, 0, 0, 0],\n",
              "       [0, 0, 0, 0, 1, 0, 0, 0, 0, 0, 1, 0, 0, 1, 0, 0, 0, 1, 1, 1, 0, 0,\n",
              "        0, 0, 0, 0, 0, 0, 0, 1, 0, 0],\n",
              "       [0, 0, 1, 0, 0, 0, 0, 1, 1, 1, 0, 1, 0, 0, 0, 0, 0, 0, 0, 0, 0, 0,\n",
              "        0, 0, 0, 0, 0, 0, 0, 0, 0, 0],\n",
              "       [1, 1, 0, 0, 0, 0, 0, 0, 0, 0, 0, 0, 1, 0, 0, 0, 0, 0, 0, 0, 0, 0,\n",
              "        0, 1, 0, 0, 0, 0, 1, 0, 1, 0],\n",
              "       [0, 0, 0, 0, 0, 1, 1, 0, 0, 0, 0, 0, 0, 0, 0, 0, 0, 0, 0, 0, 0, 0,\n",
              "        1, 0, 0, 0, 0, 0, 0, 0, 0, 0]])"
            ]
          },
          "metadata": {
            "tags": []
          },
          "execution_count": 10
        }
      ]
    },
    {
      "cell_type": "code",
      "metadata": {
        "ExecuteTime": {
          "end_time": "2020-10-18T22:59:08.152400Z",
          "start_time": "2020-10-18T22:59:08.149476Z"
        },
        "id": "ZppE6j6z8oec"
      },
      "source": [
        "repeated_words = \"\"\" \n",
        "\n",
        "Your time is limited limited limited, so limited time don’t waste it living limited someone else’s life time. \n",
        "Don’t be trapped by dogma — which is living with the results of else’s thinking. \n",
        "Don’t let the noise of others’ opinions noise drown out your own inner voice. \n",
        "And most important, have the courage to follow your heart and intuition.\n",
        "They somehow already else know what else you truly want to become. Everything else is secondary. \"\"\"\n"
      ],
      "execution_count": null,
      "outputs": []
    },
    {
      "cell_type": "code",
      "metadata": {
        "ExecuteTime": {
          "end_time": "2020-10-18T22:59:08.220175Z",
          "start_time": "2020-10-18T22:59:08.155170Z"
        },
        "id": "4WJaSlxN8oee",
        "outputId": "cd44aaeb-4d09-46d5-ba93-c8e691fb560a"
      },
      "source": [
        "# repeated words\n",
        "sentences = nltk.sent_tokenize(repeated_words)\n",
        "print(len(sentences))\n",
        "\n",
        "corpus2 = []\n",
        "for i in range(len(sentences)):\n",
        "    review = re.sub('[^a-zA-Z]', ' ', sentences[i])\n",
        "    review = review.lower()\n",
        "    review = review.split()\n",
        "    review = [wordnet.lemmatize(word) for word in review if not word in set(stopwords.words('english'))]\n",
        "    review = ' '.join(review)\n",
        "    corpus2.append(review)\n",
        "print(corpus2 )\n",
        "    # Creating the Bag of Words model\n",
        "from sklearn.feature_extraction.text import CountVectorizer\n",
        "cv = CountVectorizer(max_features = 1500)\n",
        "bagged_quote2 = cv.fit_transform(corpus2).toarray()\n",
        "\n",
        "print(bagged_quote2)\n"
      ],
      "execution_count": null,
      "outputs": [
        {
          "output_type": "stream",
          "text": [
            "6\n",
            "['time limited limited limited limited time waste living limited someone else life time', 'trapped dogma living result else thinking', 'let noise others opinion noise drown inner voice', 'important courage follow heart intuition', 'somehow already else know else truly want become', 'everything else secondary']\n",
            "[[0 0 0 0 0 1 0 0 0 0 0 0 0 0 1 5 1 0 0 0 0 0 0 1 0 3 0 0 0 0 1]\n",
            " [0 0 0 1 0 1 0 0 0 0 0 0 0 0 0 0 1 0 0 0 1 0 0 0 1 0 1 0 0 0 0]\n",
            " [0 0 0 0 1 0 0 0 0 0 1 0 0 1 0 0 0 2 1 1 0 0 0 0 0 0 0 0 1 0 0]\n",
            " [0 0 1 0 0 0 0 1 1 1 0 1 0 0 0 0 0 0 0 0 0 0 0 0 0 0 0 0 0 0 0]\n",
            " [1 1 0 0 0 2 0 0 0 0 0 0 1 0 0 0 0 0 0 0 0 0 1 0 0 0 0 1 0 1 0]\n",
            " [0 0 0 0 0 1 1 0 0 0 0 0 0 0 0 0 0 0 0 0 0 1 0 0 0 0 0 0 0 0 0]]\n"
          ],
          "name": "stdout"
        }
      ]
    },
    {
      "cell_type": "code",
      "metadata": {
        "id": "fWLqB5JQ8oej"
      },
      "source": [
        ""
      ],
      "execution_count": null,
      "outputs": []
    }
  ]
}